{
  "nbformat": 4,
  "nbformat_minor": 0,
  "metadata": {
    "colab": {
      "provenance": [],
      "authorship_tag": "ABX9TyO8OlJRAaTR1dXjltaA0hkE",
      "include_colab_link": true
    },
    "kernelspec": {
      "name": "python3",
      "display_name": "Python 3"
    },
    "language_info": {
      "name": "python"
    }
  },
  "cells": [
    {
      "cell_type": "markdown",
      "metadata": {
        "id": "view-in-github",
        "colab_type": "text"
      },
      "source": [
        "<a href=\"https://colab.research.google.com/github/ricartorres/Educacion/blob/main/Tarea_1.ipynb\" target=\"_parent\"><img src=\"https://colab.research.google.com/assets/colab-badge.svg\" alt=\"Open In Colab\"/></a>"
      ]
    },
    {
      "cell_type": "code",
      "execution_count": null,
      "metadata": {
        "id": "Xh31fcKLN9Yy"
      },
      "outputs": [],
      "source": []
    },
    {
      "cell_type": "markdown",
      "metadata": {
        "id": "IonuYotBN6_Y"
      },
      "source": [
        "# **Tarea 1 - Introducción al análisis de datos: *Python* y *NumPy***\n"
      ]
    },
    {
      "cell_type": "code",
      "metadata": {
        "id": "puqicAezq-ra"
      },
      "source": [
        "import numpy as np"
      ],
      "execution_count": null,
      "outputs": []
    },
    {
      "cell_type": "code",
      "metadata": {
        "id": "CNSeA2Jfrr20",
        "colab": {
          "base_uri": "https://localhost:8080/"
        },
        "outputId": "28a830e5-34c8-4847-dde2-325c3d127780"
      },
      "source": [
        "!python --version\n",
        "print('NumPy', np.__version__)"
      ],
      "execution_count": null,
      "outputs": [
        {
          "output_type": "stream",
          "name": "stdout",
          "text": [
            "Python 3.8.10\n",
            "NumPy 1.21.6\n"
          ]
        }
      ]
    },
    {
      "cell_type": "code",
      "source": [
        "# CELDA DE PRUEBAS \n",
        "a = np.array([0, 5, 1, 2, 3])\n",
        "\n",
        "b = np.array(\n",
        "  [[2, 0, 2, 1, 4],\n",
        "  [1, 5, 1, 0, 1],\n",
        "  [3, 2, 0, 0, 1],\n",
        "  [2, 2, 0, 2, 1]]  \n",
        ")\n",
        "\n",
        "c=np.multiply(a, b)\n",
        "#print(c.shape[0])\n",
        "i=0\n",
        "conteos=np.zeros(c.shape[0]+1)\n",
        "for item in c:\n",
        "    #print(c[i].sum())\n",
        "    conteos[i]=c[i].sum()\n",
        "    i=i+1\n",
        "    \n",
        "print(conteos)    "
      ],
      "metadata": {
        "colab": {
          "base_uri": "https://localhost:8080/"
        },
        "id": "kuC7_VnDeXvi",
        "outputId": "1184404f-8d8c-42cb-926a-62843f0a534d"
      },
      "execution_count": null,
      "outputs": [
        {
          "output_type": "stream",
          "name": "stdout",
          "text": [
            "[16. 29. 13. 17.  0.]\n"
          ]
        }
      ]
    },
    {
      "cell_type": "markdown",
      "metadata": {
        "id": "_iPmsk70gfdf"
      },
      "source": [
        "## **1. Conteo de pedidos**\n"
      ]
    },
    {
      "cell_type": "code",
      "metadata": {
        "id": "6sNDkXB-M26B"
      },
      "source": [
        "# FUNCIÓN CALIFICADA: conteo_pedidos(pedidos)\n",
        "def conteo_pedidos(pedidos):\n",
        "  \"\"\"\n",
        "  pedidos: un arreglo de NumPy con valores enteros no negativos. Contiene IDs de productos pedidos, pueden estar repetidos.\n",
        "\n",
        "  Retorna un arreglo con el conteo de los IDs del arreglo de pedidos. \n",
        "  El arreglo resultante codifica cada conteo en su posición de ID correspondiente.\n",
        "  \"\"\"\n",
        "  ### ESCRIBA SU CÓDIGO AQUÍ ###  \n",
        "  # Reemplace la palabra None por el código correspondiente\n",
        "  # ~ 6 líneas de código\n",
        "  \n",
        "  # Obtenga el valor máximo del arreglo 'pedidos'\n",
        "  máximo = pedidos.max()\n",
        "\n",
        "  # Calcule el tamaño del arreglo resultante \n",
        "  pedidosOrganizados=np.unique(pedidos)\n",
        "  tamaño = pedidosOrganizados.size\n",
        "  \n",
        "  # Cree un arreglo de ceros con ese tamaño para la guardar su respuesta\n",
        "  conteos=np.zeros(máximo+1)\n",
        "\n",
        "  for item in pedidosOrganizados:\n",
        "      conteos[item] = np.count_nonzero(pedidos == item)\n",
        "  \n",
        "\n",
        "  # Recorra cada ID en el arreglo de 'pedidos' e incremente en 1 la cantidad \n",
        "  # correspondiente a ese ID en el arreglo de 'conteos' en cada iteración\n",
        "\n",
        "  ### FIN DEL CÓDIGO ###\n",
        "\n",
        "  return conteos"
      ],
      "execution_count": null,
      "outputs": []
    },
    {
      "cell_type": "code",
      "metadata": {
        "id": "yQV8yJKVgET3",
        "colab": {
          "base_uri": "https://localhost:8080/"
        },
        "outputId": "4e66b0eb-ecf6-4ade-da86-deb46bae1e80"
      },
      "source": [
        "# CELDA DE PRUEBAS \n",
        "print(conteo_pedidos(np.array([1, 2, 3, 3, 3, 5, 5, 6])))\n",
        "\n",
        "print(conteo_pedidos(np.array([2, 2, 3, 4])))\n",
        "\n",
        "print(conteo_pedidos(np.array([1, 2, 3])))"
      ],
      "execution_count": null,
      "outputs": [
        {
          "output_type": "stream",
          "name": "stdout",
          "text": [
            "[0. 1. 1. 3. 0. 2. 1.]\n",
            "[0. 0. 2. 1. 1.]\n",
            "[0. 1. 1. 1.]\n"
          ]
        }
      ]
    },
    {
      "cell_type": "code",
      "source": [
        "#[0. 0. 4. 1. 1.]\n",
        "print(conteo_pedidos(np.array([2, 2, 3, 4, 2, 2])))\n",
        "\n",
        "#[0. 1. 1. 1.]\n",
        "print(conteo_pedidos(np.array([1, 2, 3])))\n",
        "\n",
        "#[1.]\n",
        "print(conteo_pedidos(np.array([0])))\n",
        "#print(conteo_pedidos(np.array([201, 2, 3, 24, 2, 2, 5, 2 , 2 , 2 , 2 , 2 , 14, 6, 1, 3])))\n"
      ],
      "metadata": {
        "colab": {
          "base_uri": "https://localhost:8080/"
        },
        "id": "4ZPH7k0lBw0X",
        "outputId": "2959c514-5434-4afa-84de-48bf67d82751"
      },
      "execution_count": null,
      "outputs": [
        {
          "output_type": "stream",
          "name": "stdout",
          "text": [
            "[0. 0. 4. 1. 1.]\n",
            "[0. 1. 1. 1.]\n",
            "[1.]\n"
          ]
        }
      ]
    },
    {
      "cell_type": "markdown",
      "metadata": {
        "id": "QRja4Ij8DCCY"
      },
      "source": [
        "## **2. Cantidad de material**\n"
      ]
    },
    {
      "cell_type": "code",
      "metadata": {
        "id": "6pp7NisfTWqd"
      },
      "source": [
        "# FUNCIÓN CALIFICADA: cantidad_material(productos, cantidades)\n",
        "def cantidad_material(productos, cantidades):\n",
        "  \"\"\"\n",
        "  productos: un arreglo de NumPy con dimensión (n,) con valores enteros no negativos.\n",
        "             Contiene la cantidad pedida de cada uno de los productos.\n",
        "  cantidades: un arreglo de NumPy con dimensión (m, n) con valores enteros no negativos.\n",
        "              Contiene las unidades de materia prima (filas) necesarias para la \n",
        "              fabricación de cada producto (columnas)\n",
        "\n",
        "  Retorna un arreglo con dimensión (m,) con la cantidad de unidades de materia prima \n",
        "  requeridas en el pedido.\n",
        "  \"\"\"\n",
        "  ### ESCRIBA SU CÓDIGO AQUÍ ###  \n",
        "  # Reemplace la palabra None por el código correspondiente\n",
        "  # ~ 1-5 líneas de código\n",
        "  \n",
        "  # Opere las matrices de entrada para obtener el valor requerido.\n",
        "  # Tenga en cuenta la dimensión de los arreglos a la hora de realizar las operaciones\n",
        "  #materiales = None\n",
        "  ### FIN DEL CÓDIGO ###\n",
        "  \n",
        "  c=np.multiply(productos, cantidades)\n",
        "  \n",
        "  i=0\n",
        "  materiales=np.zeros(c.shape[0])\n",
        "  for item in c:\n",
        "      materiales[i]=c[i].sum()\n",
        "      i=i+1\n",
        "  return materiales"
      ],
      "execution_count": null,
      "outputs": []
    },
    {
      "cell_type": "code",
      "metadata": {
        "id": "B8lWKRZ6iQJa",
        "colab": {
          "base_uri": "https://localhost:8080/"
        },
        "outputId": "34d2b315-6bba-46c5-9589-3ee5a9abc915"
      },
      "source": [
        "# CELDA DE PRUEBAS \n",
        "productos = np.array([0, 5, 1, 2])\n",
        "\n",
        "cantidades = np.array(\n",
        "  [[2, 0, 2, 1,],\n",
        "  [1, 5, 1, 0],\n",
        "  [3, 2, 0, 0],\n",
        "  [2, 2, 0, 2]]  \n",
        ")\n",
        "\n",
        "cantidad_material(productos, cantidades)"
      ],
      "execution_count": null,
      "outputs": [
        {
          "output_type": "execute_result",
          "data": {
            "text/plain": [
              "array([ 4., 26., 10., 14.])"
            ]
          },
          "metadata": {},
          "execution_count": 139
        }
      ]
    },
    {
      "cell_type": "code",
      "source": [
        "productos = np.array([2, 5, 7, 8])\n",
        "cantidades = np.array(\n",
        "    [[2, 0, 2, 1,],\n",
        "    [1, 1, 1, 0],\n",
        "    [2, 2, 0, 2]]  \n",
        "  )\n",
        "cantidad_material(productos, cantidades)"
      ],
      "metadata": {
        "colab": {
          "base_uri": "https://localhost:8080/"
        },
        "id": "gmFjze58OoIS",
        "outputId": "1ee67751-c277-4831-a913-0e24b8ba35d1"
      },
      "execution_count": null,
      "outputs": [
        {
          "output_type": "execute_result",
          "data": {
            "text/plain": [
              "array([26., 14., 30.])"
            ]
          },
          "metadata": {},
          "execution_count": 140
        }
      ]
    },
    {
      "cell_type": "markdown",
      "metadata": {
        "id": "g63SoDMJDC02"
      },
      "source": [
        "## **3. Cálculo de costos**\n"
      ]
    },
    {
      "cell_type": "code",
      "metadata": {
        "id": "PmNQFvJIUy-F"
      },
      "source": [
        "# FUNCIÓN CALIFICADA: costo_pedido(pedidos, cantidades, costos, descuento, lote)\n",
        "def costo_pedido(pedidos, cantidades, costos, descuento, lote):\n",
        "  \"\"\"\n",
        "  pedidos: un arreglo de NumPy con valores enteros no negativos entre 0 y n - 1.\n",
        "  cantidades: un arreglo de NumPy con dimensión (m, n) con valores enteros no negativos.\n",
        "  costos: un arreglo de NumPy con dimensión (m, ) con valores reales no negativos.\n",
        "  descuento: un número real entre 0.0 y 1.0\n",
        "  lote: un número entero no negativo.\n",
        "\n",
        "  Retorna un número real no negativo con el costo total del pedido.\n",
        "  \"\"\"\n",
        "  ### ESCRIBA SU CÓDIGO AQUÍ ###  \n",
        "  # Reemplace la palabra None por el código correspondiente\n",
        "  # ~ 5-7 líneas de código\n",
        "\n",
        "  productos = conteo_pedidos(pedidos) # Genere el arreglo de conteo de productos.\n",
        "  materiales = cantidad_material(productos, cantidades) # Genere el arreglo de cantidad de unidades por material.\n",
        "  costos_pedido = np.multiply(materiales, costos) # Opere las matrices para obtener el costo total por material.\n",
        "\n",
        "  # Realice la operación de descuento utilizando la condición de lote mínimo.\n",
        "  i=0\n",
        "  for item in materiales:\n",
        "      if (materiales[i]>=lote):\n",
        "         costos_pedido[i]=(costos_pedido[i]-(costos_pedido[i]*descuento))\n",
        "      i=i+1\n",
        "      \n",
        "  costo_total = costos_pedido.sum() # Calcule el costo total del pedido con los descuentos aplicados.\n",
        "  ### FIN DEL CÓDIGO ###\n",
        "  return costo_total"
      ],
      "execution_count": null,
      "outputs": []
    },
    {
      "cell_type": "code",
      "metadata": {
        "id": "srbdDwYlRtno",
        "colab": {
          "base_uri": "https://localhost:8080/"
        },
        "outputId": "fd28c9cd-da31-48f7-e4ae-f40e79fa0ea3"
      },
      "source": [
        "# CELDA DE PRUEBAS \n",
        "pedidos = np.array([0, 0, 1, 2, 2, 2, 2])\n",
        "cantidades = np.array(\n",
        "    [[2, 3, 2],\n",
        "    [1, 5, 1]]  \n",
        "  )\n",
        "costos = np.array([5.0, 3.0])\n",
        "\n",
        "costo_pedido(pedidos, cantidades, costos, 0.2, 15)\n",
        "#93"
      ],
      "execution_count": null,
      "outputs": [
        {
          "output_type": "execute_result",
          "data": {
            "text/plain": [
              "93.0"
            ]
          },
          "metadata": {},
          "execution_count": 170
        }
      ]
    },
    {
      "cell_type": "code",
      "metadata": {
        "colab": {
          "base_uri": "https://localhost:8080/"
        },
        "id": "n_ybkxFyVWNj",
        "outputId": "24cd7f2d-0734-4d7f-89a0-7382caba58da"
      },
      "source": [
        "# CELDA DE PRUEBAS \n",
        "pedidos = np.array([0, 0, 1, 2, 2, 2, 2, 2, 3])\n",
        "cantidades = np.array(\n",
        "      [[2, 0, 2, 1,],\n",
        "      [1, 1, 1, 0],\n",
        "      [2, 2, 0, 2]]  \n",
        "    )\n",
        "\n",
        "costos = np.array([5.0, 3.0, 4.5])\n",
        "\n",
        "costo_pedido(pedidos, cantidades, costos, 0.1, 5)\n",
        "#121.5"
      ],
      "execution_count": null,
      "outputs": [
        {
          "output_type": "execute_result",
          "data": {
            "text/plain": [
              "121.5"
            ]
          },
          "metadata": {},
          "execution_count": 171
        }
      ]
    }
  ]
}